{
 "cells": [
  {
   "cell_type": "code",
   "execution_count": 199,
   "metadata": {},
   "outputs": [],
   "source": [
    "import numpy as np\n",
    "import pandas as pd\n",
    "import matplotlib.pyplot as plt\n",
    "import seaborn as sb\n",
    "import regex as re\n",
    "\n",
    "# utilities\n",
    "%matplotlib inline\n",
    "plt.rcParams[\"figure.figsize\"] = (12, 6)\n",
    "%config IPCompleter.use_jedi = True\n",
    "\n",
    "# Models and metrics\n",
    "from sklearn.linear_model import LinearRegression, Ridge\n",
    "from sklearn.model_selection import train_test_split, GridSearchCV\n",
    "from sklearn.ensemble import RandomForestRegressor\n",
    "from sklearn.pipeline import make_pipeline\n",
    "from sklearn.metrics import r2_score, mean_squared_error\n",
    "from sklearn.feature_extraction.text import TfidfVectorizer\n",
    "from sklearn.decomposition import TruncatedSVD\n",
    "from nltk.stem.porter import PorterStemmer\n",
    "from nltk.stem import WordNetLemmatizer\n",
    "from sklearn.preprocessing import OneHotEncoder\n",
    "from scipy.sparse import hstack"
   ]
  },
  {
   "cell_type": "code",
   "execution_count": 2,
   "metadata": {},
   "outputs": [],
   "source": [
    "dev_file = r\".\\competition_dataset\\dev.tsv\"\n",
    "eval_file = r\".\\competition_dataset\\eval.tsv\""
   ]
  },
  {
   "cell_type": "code",
   "execution_count": 3,
   "metadata": {},
   "outputs": [],
   "source": [
    "def create_results_file(res, fname = \"results.csv\"):\n",
    "    pd.DataFrame(data = {\"Predicted\":res}).to_csv(fname, index_label = \"Id\")"
   ]
  },
  {
   "cell_type": "code",
   "execution_count": 4,
   "metadata": {},
   "outputs": [],
   "source": [
    "df_eval = pd.read_csv(eval_file, delimiter='\\t')"
   ]
  },
  {
   "cell_type": "code",
   "execution_count": 5,
   "metadata": {},
   "outputs": [
    {
     "data": {
      "text/html": [
       "<div>\n",
       "<style scoped>\n",
       "    .dataframe tbody tr th:only-of-type {\n",
       "        vertical-align: middle;\n",
       "    }\n",
       "\n",
       "    .dataframe tbody tr th {\n",
       "        vertical-align: top;\n",
       "    }\n",
       "\n",
       "    .dataframe thead th {\n",
       "        text-align: right;\n",
       "    }\n",
       "</style>\n",
       "<table border=\"1\" class=\"dataframe\">\n",
       "  <thead>\n",
       "    <tr style=\"text-align: right;\">\n",
       "      <th></th>\n",
       "      <th>country</th>\n",
       "      <th>description</th>\n",
       "      <th>designation</th>\n",
       "      <th>province</th>\n",
       "      <th>region_1</th>\n",
       "      <th>region_2</th>\n",
       "      <th>variety</th>\n",
       "      <th>winery</th>\n",
       "      <th>quality</th>\n",
       "    </tr>\n",
       "  </thead>\n",
       "  <tbody>\n",
       "    <tr>\n",
       "      <th>0</th>\n",
       "      <td>France</td>\n",
       "      <td>A creamed pear wine, with an attractive tang o...</td>\n",
       "      <td>Brut Blanc de Blancs</td>\n",
       "      <td>Alsace</td>\n",
       "      <td>Crémant d'Alsace</td>\n",
       "      <td>NaN</td>\n",
       "      <td>Pinot Blanc</td>\n",
       "      <td>Lucien Albrecht</td>\n",
       "      <td>45.0</td>\n",
       "    </tr>\n",
       "    <tr>\n",
       "      <th>1</th>\n",
       "      <td>US</td>\n",
       "      <td>Simple and dry, this Cabernet has modest black...</td>\n",
       "      <td>NaN</td>\n",
       "      <td>California</td>\n",
       "      <td>Paso Robles</td>\n",
       "      <td>Central Coast</td>\n",
       "      <td>Cabernet Sauvignon</td>\n",
       "      <td>Castle Rock</td>\n",
       "      <td>31.0</td>\n",
       "    </tr>\n",
       "    <tr>\n",
       "      <th>2</th>\n",
       "      <td>US</td>\n",
       "      <td>This lovely wine captures the floral, perfumed...</td>\n",
       "      <td>NaN</td>\n",
       "      <td>Oregon</td>\n",
       "      <td>Willamette Valley</td>\n",
       "      <td>Willamette Valley</td>\n",
       "      <td>Gewürztraminer</td>\n",
       "      <td>Château Bianca</td>\n",
       "      <td>35.0</td>\n",
       "    </tr>\n",
       "    <tr>\n",
       "      <th>3</th>\n",
       "      <td>Portugal</td>\n",
       "      <td>The aromas are the thing here, as so often wit...</td>\n",
       "      <td>NaN</td>\n",
       "      <td>Alentejano</td>\n",
       "      <td>NaN</td>\n",
       "      <td>NaN</td>\n",
       "      <td>Touriga Nacional</td>\n",
       "      <td>Herdade do Esporão</td>\n",
       "      <td>41.0</td>\n",
       "    </tr>\n",
       "    <tr>\n",
       "      <th>4</th>\n",
       "      <td>Italy</td>\n",
       "      <td>This is an interesting, outright strange wine ...</td>\n",
       "      <td>Natì</td>\n",
       "      <td>Southern Italy</td>\n",
       "      <td>Pompeiano</td>\n",
       "      <td>NaN</td>\n",
       "      <td>Coda di Volpe</td>\n",
       "      <td>Sorrentino</td>\n",
       "      <td>37.0</td>\n",
       "    </tr>\n",
       "  </tbody>\n",
       "</table>\n",
       "</div>"
      ],
      "text/plain": [
       "    country                                        description  \\\n",
       "0    France  A creamed pear wine, with an attractive tang o...   \n",
       "1        US  Simple and dry, this Cabernet has modest black...   \n",
       "2        US  This lovely wine captures the floral, perfumed...   \n",
       "3  Portugal  The aromas are the thing here, as so often wit...   \n",
       "4     Italy  This is an interesting, outright strange wine ...   \n",
       "\n",
       "            designation        province           region_1           region_2  \\\n",
       "0  Brut Blanc de Blancs          Alsace   Crémant d'Alsace                NaN   \n",
       "1                   NaN      California        Paso Robles      Central Coast   \n",
       "2                   NaN          Oregon  Willamette Valley  Willamette Valley   \n",
       "3                   NaN      Alentejano                NaN                NaN   \n",
       "4                  Natì  Southern Italy          Pompeiano                NaN   \n",
       "\n",
       "              variety              winery  quality  \n",
       "0         Pinot Blanc     Lucien Albrecht     45.0  \n",
       "1  Cabernet Sauvignon         Castle Rock     31.0  \n",
       "2      Gewürztraminer      Château Bianca     35.0  \n",
       "3    Touriga Nacional  Herdade do Esporão     41.0  \n",
       "4       Coda di Volpe          Sorrentino     37.0  "
      ]
     },
     "execution_count": 5,
     "metadata": {},
     "output_type": "execute_result"
    }
   ],
   "source": [
    "df_dev = pd.read_csv(dev_file, delimiter='\\t')\n",
    "df_dev.head()"
   ]
  },
  {
   "cell_type": "code",
   "execution_count": 6,
   "metadata": {
    "jupyter": {
     "outputs_hidden": true
    }
   },
   "outputs": [
    {
     "name": "stdout",
     "output_type": "stream",
     "text": [
      "<class 'pandas.core.frame.DataFrame'>\n",
      "RangeIndex: 120744 entries, 0 to 120743\n",
      "Data columns (total 9 columns):\n",
      " #   Column       Non-Null Count   Dtype  \n",
      "---  ------       --------------   -----  \n",
      " 0   country      120739 non-null  object \n",
      " 1   description  120744 non-null  object \n",
      " 2   designation  84226 non-null   object \n",
      " 3   province     120739 non-null  object \n",
      " 4   region_1     100736 non-null  object \n",
      " 5   region_2     48736 non-null   object \n",
      " 6   variety      120744 non-null  object \n",
      " 7   winery       120744 non-null  object \n",
      " 8   quality      120744 non-null  float64\n",
      "dtypes: float64(1), object(8)\n",
      "memory usage: 8.3+ MB\n"
     ]
    }
   ],
   "source": [
    "df_dev.info()"
   ]
  },
  {
   "cell_type": "code",
   "execution_count": 7,
   "metadata": {},
   "outputs": [
    {
     "data": {
      "text/plain": [
       "country            5\n",
       "description        0\n",
       "designation    36518\n",
       "province           5\n",
       "region_1       20008\n",
       "region_2       72008\n",
       "variety            0\n",
       "winery             0\n",
       "quality            0\n",
       "dtype: int64"
      ]
     },
     "execution_count": 7,
     "metadata": {},
     "output_type": "execute_result"
    }
   ],
   "source": [
    "df_dev.isna().sum(axis = 0)"
   ]
  },
  {
   "cell_type": "markdown",
   "metadata": {},
   "source": [
    "## EDA"
   ]
  },
  {
   "cell_type": "markdown",
   "metadata": {},
   "source": [
    "#### 1. country"
   ]
  },
  {
   "cell_type": "code",
   "execution_count": 8,
   "metadata": {
    "scrolled": true
   },
   "outputs": [
    {
     "data": {
      "text/plain": [
       "<AxesSubplot:>"
      ]
     },
     "execution_count": 8,
     "metadata": {},
     "output_type": "execute_result"
    },
    {
     "data": {
      "image/png": "[encoded data removed]",
      "text/plain": [
       "<Figure size 864x720 with 1 Axes>"
      ]
     },
     "metadata": {
      "needs_background": "light"
     },
     "output_type": "display_data"
    }
   ],
   "source": [
    "plt.figure(figsize= (12,10))\n",
    "df_dev.country.value_counts().plot(kind= 'barh')"
   ]
  },
  {
   "cell_type": "code",
   "execution_count": 9,
   "metadata": {
    "scrolled": true
   },
   "outputs": [
    {
     "data": {
      "text/plain": [
       "US                        49908\n",
       "Italy                     18848\n",
       "France                    16835\n",
       "Spain                      6657\n",
       "Chile                      4647\n",
       "Argentina                  4519\n",
       "Portugal                   4228\n",
       "Australia                  3949\n",
       "New Zealand                2646\n",
       "Austria                    2447\n",
       "Germany                    1963\n",
       "South Africa               1796\n",
       "Greece                      711\n",
       "Israel                      499\n",
       "Hungary                     187\n",
       "Canada                      153\n",
       "Romania                     115\n",
       "Uruguay                      81\n",
       "Croatia                      72\n",
       "Slovenia                     71\n",
       "Bulgaria                     63\n",
       "Moldova                      51\n",
       "Mexico                       47\n",
       "Turkey                       39\n",
       "Georgia                      36\n",
       "Lebanon                      31\n",
       "Cyprus                       25\n",
       "Brazil                       21\n",
       "Macedonia                    14\n",
       "Serbia                       10\n",
       "Morocco                      10\n",
       "England                       7\n",
       "Luxembourg                    7\n",
       "Czech Republic                6\n",
       "Lithuania                     5\n",
       "India                         5\n",
       "Ukraine                       4\n",
       "South Korea                   4\n",
       "Egypt                         3\n",
       "Slovakia                      3\n",
       "Bosnia and Herzegovina        3\n",
       "China                         3\n",
       "Switzerland                   3\n",
       "Montenegro                    2\n",
       "Japan                         2\n",
       "US-France                     1\n",
       "Tunisia                       1\n",
       "Albania                       1\n",
       "Name: country, dtype: int64"
      ]
     },
     "execution_count": 9,
     "metadata": {},
     "output_type": "execute_result"
    }
   ],
   "source": [
    "df_dev.country.value_counts()"
   ]
  },
  {
   "cell_type": "markdown",
   "metadata": {},
   "source": [
    "#### 2. province"
   ]
  },
  {
   "cell_type": "code",
   "execution_count": 10,
   "metadata": {},
   "outputs": [
    {
     "data": {
      "text/plain": [
       "California                   35572\n",
       "Washington                    7818\n",
       "Tuscany                       5843\n",
       "Bordeaux                      4866\n",
       "Northern Spain                3930\n",
       "                             ...  \n",
       "Felso-Magyarország               1\n",
       "Central Otago-Marlborough        1\n",
       "Lemesos                          1\n",
       "Slovenska Istra                  1\n",
       "Casablanca-Curicó Valley         1\n",
       "Name: province, Length: 444, dtype: int64"
      ]
     },
     "execution_count": 10,
     "metadata": {},
     "output_type": "execute_result"
    }
   ],
   "source": [
    "df_dev.province.value_counts()"
   ]
  },
  {
   "cell_type": "code",
   "execution_count": null,
   "metadata": {},
   "outputs": [],
   "source": []
  },
  {
   "cell_type": "markdown",
   "metadata": {},
   "source": [
    "#### 3. variety"
   ]
  },
  {
   "cell_type": "code",
   "execution_count": 15,
   "metadata": {},
   "outputs": [
    {
     "data": {
      "text/plain": [
       "Chardonnay                  11534\n",
       "Pinot Noir                  11424\n",
       "Cabernet Sauvignon          10270\n",
       "Red Blend                    8060\n",
       "Bordeaux-style Red Blend     5821\n",
       "                            ...  \n",
       "Colombard                      19\n",
       "Vignoles                       19\n",
       "Gros Manseng                   18\n",
       "Cabernet                       18\n",
       "Rosado                         18\n",
       "Name: variety, Length: 200, dtype: int64"
      ]
     },
     "execution_count": 15,
     "metadata": {},
     "output_type": "execute_result"
    }
   ],
   "source": [
    "df_dev.variety.value_counts().nlargest(200)"
   ]
  },
  {
   "cell_type": "code",
   "execution_count": null,
   "metadata": {},
   "outputs": [],
   "source": []
  },
  {
   "cell_type": "markdown",
   "metadata": {},
   "source": [
    "#### 4. winery"
   ]
  },
  {
   "cell_type": "code",
   "execution_count": 19,
   "metadata": {},
   "outputs": [
    {
     "data": {
      "text/plain": [
       "Williams Selyem           313\n",
       "Testarossa                215\n",
       "DFJ Vinhos                198\n",
       "Chateau Ste. Michelle     184\n",
       "Columbia Crest            174\n",
       "                         ... \n",
       "Crichton Hall               1\n",
       "Château des Ravatys         1\n",
       "Domaine Courtois            1\n",
       "Pierre Ferraud et Fils      1\n",
       "Oakville Cross              1\n",
       "Name: winery, Length: 14105, dtype: int64"
      ]
     },
     "execution_count": 19,
     "metadata": {},
     "output_type": "execute_result"
    }
   ],
   "source": [
    "df_dev.winery.value_counts()"
   ]
  },
  {
   "cell_type": "code",
   "execution_count": 52,
   "metadata": {},
   "outputs": [],
   "source": [
    "top_wineries = df_dev.winery.value_counts().nlargest(1200).index"
   ]
  },
  {
   "cell_type": "code",
   "execution_count": 53,
   "metadata": {},
   "outputs": [],
   "source": [
    "df_dev[\"norm_winery\"] = [x if x in top_wineries else \"others\" for x in df_dev.winery]"
   ]
  },
  {
   "cell_type": "code",
   "execution_count": 41,
   "metadata": {
    "scrolled": true
   },
   "outputs": [
    {
     "data": {
      "text/plain": [
       "others                   71981\n",
       "Williams Selyem            313\n",
       "Testarossa                 215\n",
       "DFJ Vinhos                 198\n",
       "Chateau Ste. Michelle      184\n",
       "                         ...  \n",
       "Bell                        27\n",
       "Clif Family                 27\n",
       "Oso Libre                   27\n",
       "Borra                       27\n",
       "Cloudy Bay                  27\n",
       "Name: norm_winery, Length: 1001, dtype: int64"
      ]
     },
     "execution_count": 41,
     "metadata": {},
     "output_type": "execute_result"
    }
   ],
   "source": [
    "df_dev.norm_winery.value_counts()"
   ]
  },
  {
   "cell_type": "markdown",
   "metadata": {},
   "source": [
    "#### 5. Target"
   ]
  },
  {
   "cell_type": "code",
   "execution_count": 242,
   "metadata": {},
   "outputs": [
    {
     "data": {
      "image/png": "[encoded data removed]",
      "text/plain": [
       "<Figure size 864x432 with 1 Axes>"
      ]
     },
     "metadata": {
      "needs_background": "light"
     },
     "output_type": "display_data"
    }
   ],
   "source": [
    "plt.hist(df_dev.quality, bins = 'fd');"
   ]
  },
  {
   "cell_type": "code",
   "execution_count": null,
   "metadata": {},
   "outputs": [],
   "source": []
  },
  {
   "cell_type": "markdown",
   "metadata": {},
   "source": [
    "## Feature Engineering"
   ]
  },
  {
   "cell_type": "code",
   "execution_count": 85,
   "metadata": {},
   "outputs": [],
   "source": [
    "stmr = PorterStemmer()\n",
    "def stemmer(line):\n",
    "    clean_line = re.sub('[^a-zA-Z]',\" \",line)\n",
    "    words = [stmr.stem(x) for x in clean_line.lower().split()]\n",
    "    \n",
    "    return \" \".join(words)"
   ]
  },
  {
   "cell_type": "code",
   "execution_count": 261,
   "metadata": {},
   "outputs": [],
   "source": [
    "class Feature_maker:\n",
    "    def __init__(self, pre_processor = None, tfidf_max_f = None):\n",
    "        self.tfidf = TfidfVectorizer(stop_words='english', \n",
    "                                     preprocessor= pre_processor,\n",
    "                                    norm= False, max_features= tfidf_max_f)\n",
    "        self.top_words = None\n",
    "        self.ohe = OneHotEncoder(handle_unknown= 'ignore')\n",
    "        self.text_col = None\n",
    "        self.cols = None\n",
    "        \n",
    "        \n",
    "    def desc_encoding(self, text):\n",
    "        res = self.tfidf.fit_transform(text)\n",
    "        words = self.tfidf.get_feature_names()\n",
    "        return words, res\n",
    "    \n",
    "    \n",
    "    def fit_transform(self,df, text_col, cat_cols):\n",
    "        self.text_col = text_col\n",
    "        self.f_columns = cat_cols\n",
    "        \n",
    "        self.top_words, self.desc_tfidf = self.desc_encoding(df[self.text_col])\n",
    "        cats_ohe = self.ohe.fit_transform(df[self.f_columns])\n",
    "        \n",
    "        \n",
    "        return hstack((self.desc_tfidf, cats_ohe))\n",
    "    \n",
    "    \n",
    "    def transform(self, df):\n",
    "        desc_tfidf = self.tfidf.transform(df[self.text_col])\n",
    "        cats_ohe = self.ohe.transform(df[self.f_columns])\n",
    "        \n",
    "        return hstack((desc_tfidf, cats_ohe))"
   ]
  },
  {
   "cell_type": "code",
   "execution_count": null,
   "metadata": {},
   "outputs": [],
   "source": [
    "(96595, 31158)"
   ]
  },
  {
   "cell_type": "code",
   "execution_count": 354,
   "metadata": {},
   "outputs": [],
   "source": [
    "cols = [\"designation\", \"province\",\"region_1\",\"region_2\",\"variety\", \"winery\"]\n",
    "text_col = 'description'\n",
    "\n",
    "fmk = Feature_maker(pre_processor= None, tfidf_max_f= 500)\n",
    "y = df_dev.quality.values\n",
    "X = fmk.fit_transform(df_dev, text_col, cols)"
   ]
  },
  {
   "cell_type": "code",
   "execution_count": 355,
   "metadata": {},
   "outputs": [],
   "source": [
    "#words_df = top_N_words(df_dev, \"description\", N= 150)\n",
    "X_train, X_test, y_train, y_test = train_test_split(X, y, test_size= .2, shuffle = True, random_state = 999)"
   ]
  },
  {
   "cell_type": "code",
   "execution_count": 356,
   "metadata": {},
   "outputs": [
    {
     "data": {
      "text/plain": [
       "(96595, 44680)"
      ]
     },
     "execution_count": 356,
     "metadata": {},
     "output_type": "execute_result"
    }
   ],
   "source": [
    "X_train.shape"
   ]
  },
  {
   "cell_type": "code",
   "execution_count": 357,
   "metadata": {},
   "outputs": [
    {
     "data": {
      "text/plain": [
       "0.8292136224904365"
      ]
     },
     "execution_count": 357,
     "metadata": {},
     "output_type": "execute_result"
    }
   ],
   "source": [
    "rid = Ridge(alpha = 0.5, tol = 0.001, random_state=999)\n",
    "rid.fit(X_train, y_train)\n",
    "y_hat = rid.predict(X_test)\n",
    "r2_score(y_test, y_hat)"
   ]
  },
  {
   "cell_type": "code",
   "execution_count": 324,
   "metadata": {},
   "outputs": [
    {
     "data": {
      "text/plain": [
       "GridSearchCV(cv=3,\n",
       "             estimator=Pipeline(steps=[('ridge', Ridge(random_state=999))]),\n",
       "             param_grid={'ridge__alpha': [0.1, 0.5, 0.8],\n",
       "                         'ridge__tol': [0.01, 0.001]},\n",
       "             scoring='r2')"
      ]
     },
     "execution_count": 324,
     "metadata": {},
     "output_type": "execute_result"
    }
   ],
   "source": [
    "# del rid\n",
    "# del pca\n",
    "# del model\n",
    "# del params\n",
    "#del search\n",
    "\n",
    "rid = Ridge(random_state=999)\n",
    "\n",
    "svd = TruncatedSVD(n_components= 100, n_iter= 10, random_state=999)\n",
    "rfr = RandomForestRegressor(n_estimators= 40, random_state=999, n_jobs=-1)\n",
    "model = make_pipeline(rid)\n",
    "params = {\n",
    "    \"ridge__alpha\": [0.1,0.5,0.8],\n",
    "    \"ridge__tol\" : [0.01,0.001]\n",
    "}\n",
    "#reg = LinearRegression()\n",
    "search = GridSearchCV(model, param_grid= params, cv = 3, scoring= 'r2')\n",
    "search.fit(X_train, y_train)"
   ]
  },
  {
   "cell_type": "code",
   "execution_count": 331,
   "metadata": {},
   "outputs": [
    {
     "data": {
      "text/plain": [
       "{'ridge__alpha': 0.5, 'ridge__tol': 0.001}"
      ]
     },
     "execution_count": 331,
     "metadata": {},
     "output_type": "execute_result"
    }
   ],
   "source": [
    "search.best_params_"
   ]
  },
  {
   "cell_type": "code",
   "execution_count": 325,
   "metadata": {},
   "outputs": [
    {
     "data": {
      "text/plain": [
       "0.7355367991023682"
      ]
     },
     "execution_count": 325,
     "metadata": {},
     "output_type": "execute_result"
    }
   ],
   "source": [
    "#model.fit(X_train, y_train)\n",
    "y_hat = search.predict(X_test)\n",
    "r2_score(y_test, y_hat)"
   ]
  },
  {
   "cell_type": "code",
   "execution_count": null,
   "metadata": {},
   "outputs": [],
   "source": []
  },
  {
   "cell_type": "code",
   "execution_count": 347,
   "metadata": {},
   "outputs": [],
   "source": [
    "X_eval = fmk.transform(df_eval)"
   ]
  },
  {
   "cell_type": "code",
   "execution_count": 348,
   "metadata": {},
   "outputs": [],
   "source": [
    "y_hat = rid.predict(X_eval)"
   ]
  },
  {
   "cell_type": "code",
   "execution_count": 349,
   "metadata": {},
   "outputs": [],
   "source": [
    "create_results_file(y_hat)"
   ]
  },
  {
   "cell_type": "code",
   "execution_count": null,
   "metadata": {},
   "outputs": [],
   "source": []
  }
 ],
 "metadata": {
  "kernelspec": {
   "display_name": "Python 3",
   "language": "python",
   "name": "python3"
  },
  "language_info": {
   "codemirror_mode": {
    "name": "ipython",
    "version": 3
   },
   "file_extension": ".py",
   "mimetype": "text/x-python",
   "name": "python",
   "nbconvert_exporter": "python",
   "pygments_lexer": "ipython3",
   "version": "3.8.3"
  },
  "toc": {
   "base_numbering": 1,
   "nav_menu": {},
   "number_sections": false,
   "sideBar": true,
   "skip_h1_title": false,
   "title_cell": "Table of Contents",
   "title_sidebar": "Contents",
   "toc_cell": false,
   "toc_position": {},
   "toc_section_display": true,
   "toc_window_display": true
  }
 },
 "nbformat": 4,
 "nbformat_minor": 4
}
